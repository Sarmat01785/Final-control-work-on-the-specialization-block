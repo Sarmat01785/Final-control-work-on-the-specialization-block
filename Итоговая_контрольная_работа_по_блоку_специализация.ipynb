{
 "cells": [
  {
   "cell_type": "markdown",
   "id": "5d07b565",
   "metadata": {},
   "source": [
    "# Итоговая контрольная работа по блоку специализация\n",
    "\n",
    "## Урок 2. Итоговое задание:"
   ]
  },
  {
   "cell_type": "markdown",
   "id": "17ba383b",
   "metadata": {},
   "source": [
    "### Задача 1:\n",
    "\n",
    "**1. Подведите результаты эксперимента в по следующим данным: ab_stats.csv**\n",
    "\n",
    "Стат значимо ли отличается ARPPU в двух группах ? \n",
    "\n",
    "Какие рекомендации дадите менеджеру?"
   ]
  },
  {
   "cell_type": "markdown",
   "id": "5ad919bf",
   "metadata": {},
   "source": [
    "![Изображение не загружено](Python.JPG)"
   ]
  },
  {
   "cell_type": "code",
   "execution_count": 7,
   "id": "86513a9d",
   "metadata": {},
   "outputs": [],
   "source": [
    "# Импортируем необходимые библиотеки\n",
    "import pandas as pd\n",
    "from scipy import stats"
   ]
  },
  {
   "cell_type": "code",
   "execution_count": 2,
   "id": "3d9409f7",
   "metadata": {},
   "outputs": [],
   "source": [
    "# Чтение данных из CSV файла\n",
    "df = pd.read_csv('ab_stats.csv')"
   ]
  },
  {
   "cell_type": "code",
   "execution_count": 4,
   "id": "c1819b6a",
   "metadata": {
    "scrolled": false
   },
   "outputs": [
    {
     "data": {
      "text/html": [
       "<div>\n",
       "<style scoped>\n",
       "    .dataframe tbody tr th:only-of-type {\n",
       "        vertical-align: middle;\n",
       "    }\n",
       "\n",
       "    .dataframe tbody tr th {\n",
       "        vertical-align: top;\n",
       "    }\n",
       "\n",
       "    .dataframe thead th {\n",
       "        text-align: right;\n",
       "    }\n",
       "</style>\n",
       "<table border=\"1\" class=\"dataframe\">\n",
       "  <thead>\n",
       "    <tr style=\"text-align: right;\">\n",
       "      <th></th>\n",
       "      <th>revenue</th>\n",
       "      <th>num_purchases</th>\n",
       "      <th>purchase</th>\n",
       "      <th>ab_group</th>\n",
       "      <th>av_site visit</th>\n",
       "    </tr>\n",
       "  </thead>\n",
       "  <tbody>\n",
       "    <tr>\n",
       "      <th>0</th>\n",
       "      <td>0.0</td>\n",
       "      <td>0</td>\n",
       "      <td>0</td>\n",
       "      <td>A</td>\n",
       "      <td>9.040174</td>\n",
       "    </tr>\n",
       "    <tr>\n",
       "      <th>1</th>\n",
       "      <td>0.0</td>\n",
       "      <td>0</td>\n",
       "      <td>0</td>\n",
       "      <td>A</td>\n",
       "      <td>4.811628</td>\n",
       "    </tr>\n",
       "    <tr>\n",
       "      <th>2</th>\n",
       "      <td>0.0</td>\n",
       "      <td>0</td>\n",
       "      <td>0</td>\n",
       "      <td>A</td>\n",
       "      <td>7.342623</td>\n",
       "    </tr>\n",
       "    <tr>\n",
       "      <th>3</th>\n",
       "      <td>0.0</td>\n",
       "      <td>0</td>\n",
       "      <td>0</td>\n",
       "      <td>A</td>\n",
       "      <td>7.744581</td>\n",
       "    </tr>\n",
       "    <tr>\n",
       "      <th>4</th>\n",
       "      <td>0.0</td>\n",
       "      <td>0</td>\n",
       "      <td>0</td>\n",
       "      <td>A</td>\n",
       "      <td>10.511814</td>\n",
       "    </tr>\n",
       "    <tr>\n",
       "      <th>...</th>\n",
       "      <td>...</td>\n",
       "      <td>...</td>\n",
       "      <td>...</td>\n",
       "      <td>...</td>\n",
       "      <td>...</td>\n",
       "    </tr>\n",
       "    <tr>\n",
       "      <th>23647</th>\n",
       "      <td>0.0</td>\n",
       "      <td>0</td>\n",
       "      <td>0</td>\n",
       "      <td>B</td>\n",
       "      <td>10.207152</td>\n",
       "    </tr>\n",
       "    <tr>\n",
       "      <th>23648</th>\n",
       "      <td>0.0</td>\n",
       "      <td>0</td>\n",
       "      <td>0</td>\n",
       "      <td>B</td>\n",
       "      <td>5.148761</td>\n",
       "    </tr>\n",
       "    <tr>\n",
       "      <th>23649</th>\n",
       "      <td>0.0</td>\n",
       "      <td>0</td>\n",
       "      <td>0</td>\n",
       "      <td>B</td>\n",
       "      <td>4.809019</td>\n",
       "    </tr>\n",
       "    <tr>\n",
       "      <th>23650</th>\n",
       "      <td>0.0</td>\n",
       "      <td>0</td>\n",
       "      <td>0</td>\n",
       "      <td>B</td>\n",
       "      <td>8.127488</td>\n",
       "    </tr>\n",
       "    <tr>\n",
       "      <th>23651</th>\n",
       "      <td>0.0</td>\n",
       "      <td>0</td>\n",
       "      <td>0</td>\n",
       "      <td>B</td>\n",
       "      <td>8.928102</td>\n",
       "    </tr>\n",
       "  </tbody>\n",
       "</table>\n",
       "<p>23652 rows × 5 columns</p>\n",
       "</div>"
      ],
      "text/plain": [
       "       revenue  num_purchases  purchase ab_group  av_site visit\n",
       "0          0.0              0         0        A       9.040174\n",
       "1          0.0              0         0        A       4.811628\n",
       "2          0.0              0         0        A       7.342623\n",
       "3          0.0              0         0        A       7.744581\n",
       "4          0.0              0         0        A      10.511814\n",
       "...        ...            ...       ...      ...            ...\n",
       "23647      0.0              0         0        B      10.207152\n",
       "23648      0.0              0         0        B       5.148761\n",
       "23649      0.0              0         0        B       4.809019\n",
       "23650      0.0              0         0        B       8.127488\n",
       "23651      0.0              0         0        B       8.928102\n",
       "\n",
       "[23652 rows x 5 columns]"
      ]
     },
     "execution_count": 4,
     "metadata": {},
     "output_type": "execute_result"
    }
   ],
   "source": [
    "# Выведем первые пять строк датафрейма и поледние пять строк для ознакомления\n",
    "df"
   ]
  },
  {
   "cell_type": "markdown",
   "id": "591629e4",
   "metadata": {},
   "source": [
    "## Структура и содержание данных\n",
    "\n",
    "### Обзор данных\n",
    "Датафрейм состоит из 23652 строк и 5 столбцов, каждый из которых представляет атрибуты пользователей, участвующих в A/B-тестировании, разделенных на две группы: A и B.\n",
    "\n",
    "### Описание колонок\n",
    "\n",
    "| Column Name    | Описание |\n",
    "|----------------|----------|\n",
    "| `revenue`      | Доход, полученный от пользователя. Нулевые значения в просмотренных строках указывают на отсутствие покупок. |\n",
    "| `num_purchases`| Количество покупок, совершенных пользователем. Соответствует `revenue`, так как также показывает нули в просмотренных строках. |\n",
    "| `purchase`     | Бинарный индикатор, где 1 означает совершение покупки, а 0 – отсутствие покупки. |\n",
    "| `ab_group`     | Принадлежность пользователя к группе A/B-тестирования. В данных представлены группы A и B. |\n",
    "| `av_site visit`| Средняя или накопительная продолжительность визитов пользователя на сайте. Значения положительные и варьируются. |"
   ]
  },
  {
   "cell_type": "code",
   "execution_count": 5,
   "id": "5bb09ed6",
   "metadata": {
    "scrolled": true
   },
   "outputs": [
    {
     "name": "stdout",
     "output_type": "stream",
     "text": [
      "<class 'pandas.core.frame.DataFrame'>\n",
      "RangeIndex: 23652 entries, 0 to 23651\n",
      "Data columns (total 5 columns):\n",
      " #   Column         Non-Null Count  Dtype  \n",
      "---  ------         --------------  -----  \n",
      " 0   revenue        23652 non-null  float64\n",
      " 1   num_purchases  23652 non-null  int64  \n",
      " 2   purchase       23652 non-null  int64  \n",
      " 3   ab_group       23652 non-null  object \n",
      " 4   av_site visit  23652 non-null  float64\n",
      "dtypes: float64(2), int64(2), object(1)\n",
      "memory usage: 924.0+ KB\n"
     ]
    }
   ],
   "source": [
    "# Получим информацию о типах данных и количестве непустых значений\n",
    "df.info()"
   ]
  },
  {
   "cell_type": "markdown",
   "id": "b4611b3e",
   "metadata": {},
   "source": [
    "## Обзор данных датафрейма\n",
    "\n",
    "### Тип объекта\n",
    "- Экземпляр `DataFrame` из библиотеки `pandas`, используемый для хранения и манипулирования табличными данными.\n",
    "\n",
    "### Индексация\n",
    "- Индексы строк варьируются от 0 до 23651, что указывает на общее количество записей в датафрейме — 23652 строки.\n",
    "\n",
    "### Колонки и типы данных\n",
    "Датафрейм состоит из 5 столбцов с различными типами данных:\n",
    "| #   | Column         | Non-Null Count | Dtype  |\n",
    "|-----|----------------|----------------|--------|\n",
    "| 0   | `revenue`      | 23652 non-null | float64|\n",
    "| 1   | `num_purchases`| 23652 non-null | int64  |\n",
    "| 2   | `purchase`     | 23652 non-null | int64  |\n",
    "| 3   | `ab_group`     | 23652 non-null | object |\n",
    "| 4   | `av_site visit`| 23652 non-null | float64|\n",
    "\n",
    "- Все столбцы имеют полное количество значений (23652), что означает отсутствие пропущенных данных.\n",
    "- `revenue` и `av_site visit` представлены вещественными числами.\n",
    "- `num_purchases` и `purchase` содержат целые числа.\n",
    "- `ab_group` содержит текстовые данные и представлен типом `object`.\n",
    "\n",
    "### Использование памяти\n",
    "- Датафрейм занимает приблизительно 924.0 KB оперативной памяти.\n",
    "\n",
    "### Выводы\n",
    "- Отсутствуют пропущенные значения в данных, что упрощает предварительную обработку.\n",
    "- Типы данных столбцов соответствуют ожидаемым для каждой метрики, что позволяет планировать соответствующие аналитические и статистические методы для дальнейшего анализа."
   ]
  },
  {
   "cell_type": "code",
   "execution_count": 6,
   "id": "ae15108e",
   "metadata": {},
   "outputs": [
    {
     "data": {
      "text/html": [
       "<div>\n",
       "<style scoped>\n",
       "    .dataframe tbody tr th:only-of-type {\n",
       "        vertical-align: middle;\n",
       "    }\n",
       "\n",
       "    .dataframe tbody tr th {\n",
       "        vertical-align: top;\n",
       "    }\n",
       "\n",
       "    .dataframe thead th {\n",
       "        text-align: right;\n",
       "    }\n",
       "</style>\n",
       "<table border=\"1\" class=\"dataframe\">\n",
       "  <thead>\n",
       "    <tr style=\"text-align: right;\">\n",
       "      <th></th>\n",
       "      <th>revenue</th>\n",
       "      <th>num_purchases</th>\n",
       "      <th>purchase</th>\n",
       "      <th>av_site visit</th>\n",
       "    </tr>\n",
       "  </thead>\n",
       "  <tbody>\n",
       "    <tr>\n",
       "      <th>count</th>\n",
       "      <td>23652.000000</td>\n",
       "      <td>23652.000000</td>\n",
       "      <td>23652.000000</td>\n",
       "      <td>23652.000000</td>\n",
       "    </tr>\n",
       "    <tr>\n",
       "      <th>mean</th>\n",
       "      <td>0.324689</td>\n",
       "      <td>0.043590</td>\n",
       "      <td>0.020717</td>\n",
       "      <td>7.013112</td>\n",
       "    </tr>\n",
       "    <tr>\n",
       "      <th>std</th>\n",
       "      <td>9.557730</td>\n",
       "      <td>1.079403</td>\n",
       "      <td>0.142438</td>\n",
       "      <td>3.154584</td>\n",
       "    </tr>\n",
       "    <tr>\n",
       "      <th>min</th>\n",
       "      <td>0.000000</td>\n",
       "      <td>0.000000</td>\n",
       "      <td>0.000000</td>\n",
       "      <td>-12.073486</td>\n",
       "    </tr>\n",
       "    <tr>\n",
       "      <th>25%</th>\n",
       "      <td>0.000000</td>\n",
       "      <td>0.000000</td>\n",
       "      <td>0.000000</td>\n",
       "      <td>5.173787</td>\n",
       "    </tr>\n",
       "    <tr>\n",
       "      <th>50%</th>\n",
       "      <td>0.000000</td>\n",
       "      <td>0.000000</td>\n",
       "      <td>0.000000</td>\n",
       "      <td>7.007936</td>\n",
       "    </tr>\n",
       "    <tr>\n",
       "      <th>75%</th>\n",
       "      <td>0.000000</td>\n",
       "      <td>0.000000</td>\n",
       "      <td>0.000000</td>\n",
       "      <td>8.864119</td>\n",
       "    </tr>\n",
       "    <tr>\n",
       "      <th>max</th>\n",
       "      <td>1303.609284</td>\n",
       "      <td>152.000000</td>\n",
       "      <td>1.000000</td>\n",
       "      <td>22.446822</td>\n",
       "    </tr>\n",
       "  </tbody>\n",
       "</table>\n",
       "</div>"
      ],
      "text/plain": [
       "            revenue  num_purchases      purchase  av_site visit\n",
       "count  23652.000000   23652.000000  23652.000000   23652.000000\n",
       "mean       0.324689       0.043590      0.020717       7.013112\n",
       "std        9.557730       1.079403      0.142438       3.154584\n",
       "min        0.000000       0.000000      0.000000     -12.073486\n",
       "25%        0.000000       0.000000      0.000000       5.173787\n",
       "50%        0.000000       0.000000      0.000000       7.007936\n",
       "75%        0.000000       0.000000      0.000000       8.864119\n",
       "max     1303.609284     152.000000      1.000000      22.446822"
      ]
     },
     "execution_count": 6,
     "metadata": {},
     "output_type": "execute_result"
    }
   ],
   "source": [
    "# Описательные статистики для количественных переменных\n",
    "df.describe()"
   ]
  },
  {
   "cell_type": "markdown",
   "id": "93fc856f",
   "metadata": {},
   "source": [
    "## Описательная статистика данных\n",
    "\n",
    "Обзор статистических показателей для каждого столбца дает нам следующую информацию:\n",
    "\n",
    "### `revenue` (доход)\n",
    "- **Среднее**: 0.324689\n",
    "- **Стандартное отклонение**: 9.557730\n",
    "- **Минимум**: 0.000000\n",
    "- **25% квартиль**: 0.000000 (75% пользователей не приносили доход)\n",
    "- **Медиана (50% квартиль)**: 0.000000\n",
    "- **75% квартиль**: 0.000000\n",
    "- **Максимум**: 1303.609284 (возможные выбросы или очень крупные покупки)\n",
    "\n",
    "### `num_purchases` (количество покупок)\n",
    "- **Среднее**: 0.043590\n",
    "- **Стандартное отклонение**: 1.079403\n",
    "- **Минимум**: 0.000000\n",
    "- **25% квартиль**: 0.000000\n",
    "- **Медиана (50% квартиль)**: 0.000000\n",
    "- **75% квартиль**: 0.000000\n",
    "- **Максимум**: 152.000000 (признаки аномалии или очень активных пользователей)\n",
    "\n",
    "### `purchase` (покупка)\n",
    "- **Среднее**: 0.020717 (подавляющее большинство пользователей не совершали покупок)\n",
    "- **Стандартное отклонение**: 0.142438\n",
    "- **Минимум**: 0.000000\n",
    "- **25% квартиль**: 0.000000\n",
    "- **Медиана (50% квартиль)**: 0.000000\n",
    "- **75% квартиль**: 0.000000\n",
    "- **Максимум**: 1.000000 (подтверждение бинарного признака)\n",
    "\n",
    "### `av_site visit` (среднее время посещения сайта)\n",
    "- **Среднее**: 7.013112\n",
    "- **Стандартное отклонение**: 3.154584\n",
    "- **Минимум**: -12.073486 (отрицательное значение указывает на потенциальную ошибку в данных)\n",
    "- **25% квартиль**: 5.173787\n",
    "- **Медиана (50% квартиль)**: 7.007936\n",
    "- **75% квартиль**: 8.864119\n",
    "- **Максимум**: 22.446822\n",
    "\n",
    "Из этих данных можно заключить, что большинство пользователей не совершали покупок, и данные о времени посещения сайта могут содержать ошибки. Кроме того, распределение `revenue` и `num_purchases` сильно скошено, так как среднее значительно превышает медиану, что может указывать на наличие выбросов."
   ]
  },
  {
   "cell_type": "markdown",
   "id": "b4ecbc88",
   "metadata": {},
   "source": [
    "![Изображение не загружено](Python.JPG)"
   ]
  },
  {
   "cell_type": "code",
   "execution_count": 11,
   "id": "818aeb07",
   "metadata": {},
   "outputs": [],
   "source": [
    "# Фильтруем данные, оставляя только строки с покупками\n",
    "df_purchases = df[df['purchase'] == 1]"
   ]
  },
  {
   "cell_type": "code",
   "execution_count": 12,
   "id": "de139b7e",
   "metadata": {},
   "outputs": [],
   "source": [
    "# Разделяем данные на две группы: A и B\n",
    "group_a = df_purchases[df_purchases['ab_group'] == 'A']\n",
    "group_b = df_purchases[df_purchases['ab_group'] == 'B']"
   ]
  },
  {
   "cell_type": "code",
   "execution_count": 17,
   "id": "f23ef533",
   "metadata": {},
   "outputs": [
    {
     "name": "stdout",
     "output_type": "stream",
     "text": [
      "ARPPU группы А: 18.698468640625\n",
      "ARPPU группы B: 12.36211875641025\n",
      "P-значение: 0.8871956616344514\n",
      "Статистически значимых различий в ARPPU между группами не обнаружено.\n"
     ]
    }
   ],
   "source": [
    "# Вычисляем ARPPU для каждой группы\n",
    "arppu_a = group_a['revenue'].mean()\n",
    "arppu_b = group_b['revenue'].mean()\n",
    "\n",
    "# Проверяем на нормальность распределения доходов в каждой группе\n",
    "# Если данные распределены нормально, можно использовать t-тест\n",
    "normal_a = stats.shapiro(group_a['revenue'])\n",
    "normal_b = stats.shapiro(group_b['revenue'])\n",
    "\n",
    "# Если данные не распределены нормально, лучше использовать U-тест Манна-Уитни\n",
    "if normal_a.pvalue < 0.05 or normal_b.pvalue < 0.05:\n",
    "    # Непараметрический тест\n",
    "    stat, p_value = stats.mannwhitneyu(group_a['revenue'], group_b['revenue'])\n",
    "else:\n",
    "    # Параметрический тест\n",
    "    stat, p_value = stats.ttest_ind(group_a['revenue'], group_b['revenue'])\n",
    "\n",
    "# Выводим результаты\n",
    "print('ARPPU группы А:', arppu_a)\n",
    "print('ARPPU группы B:', arppu_b)\n",
    "print('P-значение:', p_value)\n",
    "\n",
    "# Основываясь на результатах, делаем рекомендации менеджеру\n",
    "if p_value < 0.05:\n",
    "    print(\"Есть статистически значимые различия в ARPPU между группами.\")\n",
    "else:\n",
    "    print(\"Статистически значимых различий в ARPPU между группами не обнаружено.\")"
   ]
  },
  {
   "cell_type": "markdown",
   "id": "91ca08ed",
   "metadata": {},
   "source": [
    "# Заключение и рекомендации:"
   ]
  },
  {
   "cell_type": "markdown",
   "id": "18721c5a",
   "metadata": {},
   "source": [
    "## Рекомендации по результатам A/B-тестирования\n",
    "\n",
    "### Продолжение тестирования\n",
    "Текущие данные не демонстрируют статистически значимые различия в ARPPU. Рассмотрите возможность продолжения эксперимента для увеличения статистической мощности, особенно если размер выборок оказался недостаточным.\n",
    "\n",
    "### Детальный анализ данных\n",
    "Изучите другие метрики пользовательского взаимодействия, чтобы выявить возможные изменения в поведении пользователей, не отраженные в ARPPU.\n",
    "\n",
    "### Сегментация пользователей\n",
    "Проанализируйте результаты среди различных сегментов пользователей. Возможно, изменения более значимы для определенных групп, например, новых пользователей по сравнению с возвращающимися.\n",
    "\n",
    "### Качественный анализ\n",
    "Проведите качественные исследования, такие как интервью, опросы и анализ отзывов, чтобы лучше понять потребности и предпочтения пользователей.\n",
    "\n",
    "### Проверка тестовой процедуры\n",
    "Убедитесь, что A/B-тест был проведен корректно, без смещения выборки и влияния внешних факторов.\n",
    "\n",
    "### Рассмотрение бизнес-метрик\n",
    "Оцените влияние изменений на общие бизнес-показатели, такие как удержание пользователей, частоту покупок и общий доход.\n",
    "\n",
    "### Информирование команды\n",
    "Поделитесь результатами с командой продукта и маркетинга для информирования дальнейших стратегических и тактических решений."
   ]
  },
  {
   "cell_type": "markdown",
   "id": "588c2c3a",
   "metadata": {},
   "source": [
    "### Задача 2:\n",
    "\n",
    "2) Мы хотим провести А/Б-тест для трех источников трафика. \n",
    "   Нынешняя конверсия равна 5%, мы ожидаем прирост в 0,2%.\n",
    "   Уровень доверия 97% и уровень мощности 87%.\n",
    "   Всего на наш продукт заходит 40 000 пользователей в месяц.\n",
    "   \n",
    "3) За сколько дней мы сможем протестировать гипотезу? И что вы можете посоветовать по\n",
    "   результатам подсчета?\n",
    "   \n",
    "3.1) Допустим в задаче нет проблемы с количеством посетителей на сайт, тогда подведите\n",
    "результаты тестирования, если у нас следующие результаты по количеству конверсии:\n",
    "1) 25 000\n",
    "2) 30 000\n",
    "3) 32 000"
   ]
  },
  {
   "cell_type": "markdown",
   "id": "3ff79f34",
   "metadata": {},
   "source": [
    "### Решение:\n",
    "\n",
    "`Шаги выполнения по следовательно:`\n",
    "\n",
    "1. Рассчитаем необходимый размер выборки для каждого источника трафика.\n",
    "2. Определим продолжительность теста на основе количества пользователей в месяц.\n",
    "3. Проанализируем результаты тестирования, используя z-тест.\n",
    "4. Заключения рекомендации по результатам A/B-тестирования (За сколько дней мы сможем протестировать гипотезу? И что вы можете посоветовать по результатам подсчета?)"
   ]
  },
  {
   "cell_type": "markdown",
   "id": "740cb0be",
   "metadata": {},
   "source": [
    "### 1. Расчет необходимого размера выборки\n",
    "\n",
    "Будем использовать функцию `solve_power` из класса `NormalIndPower`, чтобы рассчитать необходимый размер выборки для каждого источника трафика. Нужно учесть текущую конверсию, ожидаемый прирост, уровень доверия и уровень мощности."
   ]
  },
  {
   "cell_type": "markdown",
   "id": "699208ba",
   "metadata": {},
   "source": [
    "![Изображение не загружено](Python.JPG)"
   ]
  },
  {
   "cell_type": "code",
   "execution_count": 18,
   "id": "2b04b4f5",
   "metadata": {},
   "outputs": [
    {
     "name": "stdout",
     "output_type": "stream",
     "text": [
      "Необходимый размер выборки для каждой группы: 262946\n"
     ]
    }
   ],
   "source": [
    "import numpy as np\n",
    "from statsmodels.stats.power import NormalIndPower\n",
    "from statsmodels.stats.proportion import proportion_effectsize\n",
    "\n",
    "# Зададим параметры для расчета\n",
    "baseline_conversion = 0.05 # Нынешняя конверсия равна 5%\n",
    "expected_lift = 0.002  # Ожидаемый прирост в 0.2%\n",
    "confidence_level = 0.97 # Уровень доверия 97%\n",
    "power_level = 0.87 # уровень мощности 87%\n",
    "\n",
    "# Эффект размера на основе разности пропорций\n",
    "effect_size = proportion_effectsize(baseline_conversion, baseline_conversion + expected_lift)\n",
    "\n",
    "# Используем анализ мощности для расчета размера выборки\n",
    "power_analysis = NormalIndPower()\n",
    "sample_size_per_group = power_analysis.solve_power(\n",
    "    effect_size=effect_size,\n",
    "    power=power_level,\n",
    "    alpha=1 - confidence_level,\n",
    "    ratio=1  # Размер выборки для группы A относительно группы B\n",
    ")\n",
    "\n",
    "print(f\"Необходимый размер выборки для каждой группы: {sample_size_per_group:.0f}\")"
   ]
  },
  {
   "cell_type": "markdown",
   "id": "db172b78",
   "metadata": {},
   "source": [
    "### 2. Определение продолжительности теста\n",
    "\n",
    "Теперь, когда мы знаем `необходимый размер выборки`, мы можем определить `продолжительность теста`. Поскольку у нас есть 40 000 пользователей в месяц, мы можем разделить общее количество пользователей на ежедневное количество пользователей, чтобы получить продолжительность теста в днях."
   ]
  },
  {
   "cell_type": "markdown",
   "id": "f3a9051f",
   "metadata": {},
   "source": [
    "![Изображение не загружено](Python.JPG)"
   ]
  },
  {
   "cell_type": "code",
   "execution_count": 19,
   "id": "f87456d1",
   "metadata": {},
   "outputs": [
    {
     "name": "stdout",
     "output_type": "stream",
     "text": [
      "Продолжительность теста в днях для каждой группы: 197\n"
     ]
    }
   ],
   "source": [
    "monthly_users = 40000\n",
    "daily_users = monthly_users / 30  # Примерное количество пользователей в день\n",
    "duration_in_days = sample_size_per_group / daily_users\n",
    "print(f\"Продолжительность теста в днях для каждой группы: {duration_in_days:.0f}\")"
   ]
  },
  {
   "cell_type": "markdown",
   "id": "8d3028c0",
   "metadata": {},
   "source": [
    "### 3. Анализ результатов тестирования\n",
    "\n",
    "Предположим, что у нас есть следующие результаты по количеству конверсии для каждого источника трафика:\n",
    "\n",
    "1) 25 000\n",
    "2) 30 000\n",
    "3) 32 000\n",
    "\n",
    "Теперь мы можем использовать z-тест для проверки различий между группами."
   ]
  },
  {
   "cell_type": "markdown",
   "id": "6957a7a4",
   "metadata": {},
   "source": [
    "![Изображение не загружено](Python.JPG)"
   ]
  },
  {
   "cell_type": "code",
   "execution_count": 35,
   "id": "6e3b6c30",
   "metadata": {
    "scrolled": true
   },
   "outputs": [
    {
     "name": "stdout",
     "output_type": "stream",
     "text": [
      "Группа 1 vs Группа 2 Z-статистика: -38.139, P-значение: 0.000\n",
      "Группа 1 vs Группа 3 Z-статистика: -54.682, P-значение: 0.000\n",
      "Группа 2 vs Группа 3 Z-статистика: -16.933, P-значение: 0.000\n"
     ]
    }
   ],
   "source": [
    "from statsmodels.stats.proportion import proportions_ztest\n",
    "\n",
    "# Предположим, что это количество успехов (конверсий) для каждой группы и размеры групп\n",
    "conversions = [25000, 30000, 32000]\n",
    "# Предположим, что это размеры групп (количество пользователей в каждой группе)\n",
    "# Значения должны быть реальными размерами выборки для каждой группы\n",
    "total_users_per_group = [40000, 40000, 40000]  # Примерные размеры групп\n",
    "\n",
    "# Попарные сравнения для z-теста\n",
    "comparisons = [(0, 1), (0, 2), (1, 2)]\n",
    "results = {}\n",
    "\n",
    "for i, j in comparisons:\n",
    "    stat, pval = proportions_ztest([conversions[i], conversions[j]],\n",
    "                                    [total_users_per_group[i], total_users_per_group[j]])\n",
    "    results[f\"Группа {i+1} vs Группа {j+1}\"] = (stat, pval)\n",
    "\n",
    "# Выведем результаты\n",
    "for comparison, (stat, pval) in results.items():\n",
    "    print(f\"{comparison} Z-статистика: {stat:.3f}, P-значение: {pval:.3f}\")"
   ]
  },
  {
   "cell_type": "markdown",
   "id": "35a4f7ad",
   "metadata": {},
   "source": [
    "### 4. Заключения рекомендации по результатам A/B-тестирования"
   ]
  },
  {
   "cell_type": "markdown",
   "id": "910f61e1",
   "metadata": {},
   "source": [
    "### Рекомендации\n",
    "\n",
    "- Если продолжительность теста слишком долгая: Подумайте о возможности увеличения трафика или принятия более консервативных параметров для уровня доверия и мощности.\n",
    "- Если результаты тестирования показывают статистическую значимость: Рассмотрите возможность внедрения изменений, которые были протестированы в группе с улучшенной конверсией.\n",
    "- Если результаты не являются статистически значимыми: Пересмотрите гипотезы и возможно увеличьте размер выборки или продолжительность теста."
   ]
  },
  {
   "cell_type": "markdown",
   "id": "15061b1d",
   "metadata": {},
   "source": [
    "### Задача 4:\n",
    "\n",
    "Вы решили сравнивать метрику CPA в двух группах. Размер выборки - 2350 элементов в\n",
    "каждой группе.\n",
    "\n",
    "Для проверки нормальности распределения на выборке в 2350 наблюдений применили ,\n",
    "критерий Шапиро-Уилка и получили p-value, равный 0.00002, alpha = 5%.\n",
    "\n",
    "Какой бы вывод мы могли сделать в данном случае?\n",
    "\n",
    "В этом случае какой статистический критерий для проверки первоначальной гипотезы тут лучше\n",
    "всего подойдёт и почему ?"
   ]
  },
  {
   "cell_type": "markdown",
   "id": "dc5547f7",
   "metadata": {},
   "source": [
    "### Решение:"
   ]
  },
  {
   "cell_type": "markdown",
   "id": "896bbcc3",
   "metadata": {},
   "source": [
    "Если мы получили p-value, равное 0.00002, при использовании критерия Шапиро-Уилка для проверки нормальности распределения, и alpha (уровень значимости) составляет 5% (или 0.05), то наш результат теста на нормальность следующий:\n",
    "\n",
    "`p-value < alpha (0.00002 < 0.05)`\n",
    "\n",
    "Это значит, что мы отклоняем нулевую гипотезу о том, что данные распределены нормально. Следовательно, распределение выборки статистически значимо отличается от нормального распределения."
   ]
  },
  {
   "cell_type": "markdown",
   "id": "1aa0dc36",
   "metadata": {},
   "source": [
    "### Выбор статистического критерия\n",
    "\n",
    "В данном случае, поскольку распределение данных не является нормальным, для сравнения средних двух групп лучше использовать непараметрический статистический критерий. Одним из таких критериев является критерий Манна-Уитни, который предназначен для сравнения двух независимых выборок. Этот критерий не требует предположения о нормальности распределения данных и может быть использован, когда данные имеют произвольное распределение."
   ]
  },
  {
   "cell_type": "markdown",
   "id": "34b90b2f",
   "metadata": {},
   "source": [
    "![Изображение не загружено](Python.JPG)"
   ]
  },
  {
   "cell_type": "code",
   "execution_count": 6,
   "id": "a01f314d",
   "metadata": {
    "scrolled": false
   },
   "outputs": [
    {
     "name": "stdout",
     "output_type": "stream",
     "text": [
      "Статистика теста Манна-Уитни: 2744281.0\n",
      "P-значение: 0.71525050992798\n",
      "Не отклоняем нулевую гипотезу, различия не статистически значимы.\n"
     ]
    }
   ],
   "source": [
    "import numpy as np\n",
    "from scipy.stats import mannwhitneyu\n",
    "\n",
    "# Сгенерируем случайные данные для примера\n",
    "group1 = np.random.rand(2350)\n",
    "group2 = np.random.rand(2350)\n",
    "\n",
    "# Выполнение теста Манна-Уитни\n",
    "stat, p_value = mannwhitneyu(group1, group2, alternative='two-sided')\n",
    "\n",
    "print(f'Статистика теста Манна-Уитни: {stat}')\n",
    "print(f'P-значение: {p_value}')\n",
    "\n",
    "# Интерпретация результатов\n",
    "alpha = 0.05\n",
    "if p_value < alpha:\n",
    "    print('Отклоняем нулевую гипотезу, различия статистически значимы.')\n",
    "else:\n",
    "    print('Не отклоняем нулевую гипотезу, различия не статистически значимы.')"
   ]
  },
  {
   "cell_type": "markdown",
   "id": "f13c9bb1",
   "metadata": {},
   "source": [
    "### Задача 5: \n",
    "\n",
    "Мы провели АБ-тест на увеличение average timespent per user. По итогам тестирования мы\n",
    "получили следующие данные. Является ли результат статистически значимым с уровнем\n",
    "доверия 80%? Какую версию мы выкатим на продакшн?\n",
    "\n",
    "A) Средняя - 360, отклонение - 40, количество - 9802\n",
    "\n",
    "B) Средняя - 352, отклонение - 58, количество - 9789                                      "
   ]
  },
  {
   "cell_type": "markdown",
   "id": "5bedde79",
   "metadata": {},
   "source": [
    "### Решение:\n",
    "\n",
    "Для определения статистической значимости различий в среднем времени, проведенном пользователями в группах A и B, мы можем использовать двувыборочный t-тест для независимых выборок. Уровень доверия в 80% соответствует уровню значимости (alpha) 20% или 0.2.\n",
    "\n",
    "  Данные:\n",
    "- Группа A: среднее = 360, стандартное отклонение = 40, размер выборки = 9802\n",
    "- Группа B: среднее = 352, стандартное отклонение = 58, размер выборки = 9789"
   ]
  },
  {
   "cell_type": "markdown",
   "id": "6e14a69f",
   "metadata": {},
   "source": [
    "![Изображение не загружено](Python.JPG)"
   ]
  },
  {
   "cell_type": "code",
   "execution_count": 18,
   "id": "a26b4ed9",
   "metadata": {},
   "outputs": [
    {
     "name": "stdout",
     "output_type": "stream",
     "text": [
      "t-статистика: 11.236630785707332\n",
      "P-значение: 3.310435400767472e-29\n",
      "Результат статистически значим с уровнем доверия 80%.\n",
      "Выкатываем на продакшн версию B, так как она показала увеличение времени, проведенного пользователями.\n"
     ]
    }
   ],
   "source": [
    "from scipy import stats\n",
    "\n",
    "# Задаем данные\n",
    "mean_a = 360\n",
    "std_a = 40\n",
    "n_a = 9802\n",
    "\n",
    "mean_b = 352\n",
    "std_b = 58\n",
    "n_b = 9789\n",
    "\n",
    "# Рассчитываем стандартные ошибки средних значений\n",
    "se_a = std_a / (n_a ** 0.5)\n",
    "se_b = std_b / (n_b ** 0.5)\n",
    "\n",
    "# Рассчитываем стандартную ошибку разности средних\n",
    "se_difference = (se_a**2 + se_b**2) ** 0.5\n",
    "\n",
    "# Рассчитываем t-статистику\n",
    "t_statistic = (mean_a - mean_b) / se_difference\n",
    "\n",
    "# Рассчитываем степени свободы для двух выборок\n",
    "df = n_a + n_b - 2\n",
    "\n",
    "# Используем t-распределение для получения p-значения\n",
    "p_value = stats.t.sf(abs(t_statistic), df) * 2  # Умножаем на 2 для двустороннего теста\n",
    "\n",
    "# Выводим результаты\n",
    "print(f't-статистика: {t_statistic}')\n",
    "print(f'P-значение: {p_value}')\n",
    "\n",
    "# Интерпретируем результат\n",
    "alpha = 0.2  # Уровень значимости 20%\n",
    "if p_value < alpha:\n",
    "    print('Результат статистически значим с уровнем доверия 80%.')\n",
    "    print('Выкатываем на продакшн версию B, так как она показала увеличение времени, проведенного пользователями.')\n",
    "else:\n",
    "    print('Результат не является статистически значимым.')"
   ]
  },
  {
   "cell_type": "markdown",
   "id": "4b68bba7",
   "metadata": {},
   "source": [
    "### Задача 6\n",
    "\n",
    "Создайте техническую архитектуру проекта по аб тестированию продукта он-лайн кинотеатра\n",
    "с учетом кросс-девайс аналитики по следующей гипотезе:\n",
    "Если договориться с банком о 99% кэшбэке на подписку первого месяца, то это повысит\n",
    "конверсию в подписку на 30%, благодаря упрощенному принятию решения со стороны\n",
    "пользователя.\n",
    "\n",
    "На схеме необходимо отобразить:\n",
    "\n",
    "1) Управленческий процесс по договоренностям с внешними партнерами\n",
    "2) Архитектуру данных с указанием систем, из которых будем скачивать данные\n",
    "3) Внутрикомандное взаимодействие"
   ]
  },
  {
   "cell_type": "markdown",
   "id": "ab5b9bce",
   "metadata": {},
   "source": [
    "### Решение:"
   ]
  },
  {
   "cell_type": "markdown",
   "id": "45feea16",
   "metadata": {},
   "source": [
    "# Техническая архитектура проекта A/B тестирования для онлайн-кинотеатра\n",
    "\n",
    "## Управленческий процесс\n",
    "\n",
    "### Договоренности с внешними партнерами\n",
    "1. **Подготовка предложения** - Разработка коммерческого предложения для банков с детализацией условий кампании по кэшбэку.\n",
    "2. **Переговоры** - Встречи и переговоры с представителями банков для обсуждения деталей сотрудничества и условий кампании.\n",
    "3. **Юридическое согласование** - Подготовка и согласование юридических документов, необходимых для запуска кампании.\n",
    "4. **Техническая интеграция** - Работа с техническими специалистами банка и онлайн-кинотеатра для обеспечения интеграции систем.\n",
    "\n",
    "## Архитектура данных\n",
    "\n",
    "### Источники данных\n",
    "- **Система управления пользователями (User Management System)** - данные о регистрациях и подписках пользователей.\n",
    "- **Платежная система (Payment Gateway)** - данные о транзакциях и кэшбэках.\n",
    "- **Система аналитики (Analytics System)** - данные о поведении пользователей на сайте и в приложении, включая кросс-девайс аналитику.\n",
    "\n",
    "### Хранение данных\n",
    "- **Data Warehouse** - централизованное хранилище для сбора данных из разных систем.\n",
    "\n",
    "### Обработка и анализ данных\n",
    "- **ETL процессы** - извлечение, трансформация и загрузка данных в Data Warehouse.\n",
    "- **A/B Testing Platform** - система для проведения и анализа результатов A/B тестирования.\n",
    "\n",
    "## Внутрикомандное взаимодействие\n",
    "\n",
    "### Команда A/B тестирования\n",
    "- **Продуктовые менеджеры** - формирование гипотез и определение метрик успеха.\n",
    "- **Аналитики данных** - подготовка данных, анализ результатов тестирования.\n",
    "- **Разработчики** - реализация технических изменений для проведения тестирования.\n",
    "- **Маркетологи** - разработка коммуникаций и предложений для пользователей.\n",
    "- **Партнерские менеджеры** - взаимодействие с банком и другими партнерами."
   ]
  },
  {
   "cell_type": "markdown",
   "id": "0bb13915",
   "metadata": {},
   "source": [
    "![Изображение не загружено](Python.JPG)"
   ]
  },
  {
   "cell_type": "code",
   "execution_count": 38,
   "id": "8afc4031",
   "metadata": {
    "scrolled": false
   },
   "outputs": [
    {
     "data": {
      "image/png": "[encoded data removed]",
      "text/plain": [
       "<Figure size 1500x1000 with 1 Axes>"
      ]
     },
     "metadata": {},
     "output_type": "display_data"
    }
   ],
   "source": [
    "import matplotlib.pyplot as plt\n",
    "import networkx as nx\n",
    "\n",
    "# Создание графа\n",
    "G = nx.DiGraph()\n",
    "\n",
    "# Управленческий процесс\n",
    "G.add_node(\"Подготовка предложения\", pos=(0, 5))\n",
    "G.add_node(\"Переговоры\", pos=(1, 5))\n",
    "G.add_node(\"Юридическое согласование\", pos=(2, 5))\n",
    "G.add_node(\"Техническая интеграция\", pos=(3, 5))\n",
    "\n",
    "# Архитектура данных\n",
    "G.add_node(\"Система управления пользователями\", pos=(0, 3))\n",
    "G.add_node(\"Платежная система\", pos=(1, 3))\n",
    "G.add_node(\"Система аналитики\", pos=(2, 3))\n",
    "G.add_node(\"Data Warehouse\", pos=(1, 2))\n",
    "G.add_node(\"ETL процессы\", pos=(1, 1))\n",
    "G.add_node(\"A/B Testing Platform\", pos=(1, 0))\n",
    "\n",
    "# Взаимодействие команд\n",
    "G.add_node(\"Продуктовые менеджеры\", pos=(-1, 4))\n",
    "G.add_node(\"Аналитики данных\", pos=(-1, 2))\n",
    "G.add_node(\"Разработчики\", pos=(-1, 0))\n",
    "G.add_node(\"Маркетологи\", pos=(3, 2))\n",
    "G.add_node(\"Партнерские менеджеры\", pos=(3, 4))\n",
    "\n",
    "# Ребра\n",
    "edges = [\n",
    "    (\"Подготовка предложения\", \"Переговоры\"),\n",
    "    (\"Переговоры\", \"Юридическое согласование\"),\n",
    "    (\"Юридическое согласование\", \"Техническая интеграция\"),\n",
    "    (\"Система управления пользователями\", \"Data Warehouse\"),\n",
    "    (\"Платежная система\", \"Data Warehouse\"),\n",
    "    (\"Система аналитики\", \"Data Warehouse\"),\n",
    "    (\"Data Warehouse\", \"ETL процессы\"),\n",
    "    (\"ETL процессы\", \"A/B Testing Platform\"),\n",
    "    (\"Продуктовые менеджеры\", \"Техническая интеграция\"),\n",
    "    (\"Аналитики данных\", \"ETL процессы\"),\n",
    "    (\"Разработчики\", \"A/B Testing Platform\"),\n",
    "    (\"Маркетологи\", \"A/B Testing Platform\"),\n",
    "    (\"Партнерские менеджеры\", \"Юридическое согласование\"),\n",
    "]\n",
    "\n",
    "G.add_edges_from(edges)\n",
    "\n",
    "# Рисование графа\n",
    "pos = nx.get_node_attributes(G, 'pos')\n",
    "plt.figure(figsize=(15, 10))\n",
    "nx.draw(G, pos, with_labels=True, node_size=3000, node_color=\"lightblue\", font_size=10, font_weight=\"bold\", arrows=True)\n",
    "plt.title(\"Техническая архитектура проекта A/B тестирования для онлайн-кинотеатра\")\n",
    "plt.show()"
   ]
  },
  {
   "cell_type": "markdown",
   "id": "30be0cd5",
   "metadata": {},
   "source": [
    "# Объяснение схемы технической архитектуры проекта A/B тестирования для онлайн-кинотеатра\n",
    "\n",
    "## Управленческий процесс\n",
    "\n",
    "### Подготовка предложения\n",
    "- **Начальный этап**: Разработка коммерческого предложения для банков с детализацией условий кампании по кэшбэку.\n",
    "\n",
    "### Переговоры\n",
    "- **Встречи и переговоры**: С представителями банков для обсуждения деталей сотрудничества и условий кампании.\n",
    "\n",
    "### Юридическое согласование\n",
    "- **Подготовка и согласование юридических документов**: Необходимых для запуска кампании.\n",
    "\n",
    "### Техническая интеграция\n",
    "- **Работа с техническими специалистами**: Для обеспечения интеграции систем.\n",
    "\n",
    "## Архитектура данных\n",
    "\n",
    "### Система управления пользователями\n",
    "- **Хранение данных**: О регистрациях и подписках пользователей.\n",
    "\n",
    "### Платежная система\n",
    "- **Данные о транзакциях и кэшбэках**: Информация о совершаемых операциях.\n",
    "\n",
    "### Система аналитики\n",
    "- **Данные о поведении пользователей**: Анализ активности пользователей в сервисе.\n",
    "\n",
    "### Data Warehouse\n",
    "- **Централизованное хранилище данных**: Сбор данных из различных систем.\n",
    "\n",
    "### ETL процессы\n",
    "- **Извлечение, трансформация и загрузка данных**: Подготовка данных для анализа.\n",
    "\n",
    "### A/B Testing Platform\n",
    "- **Система для проведения и анализа A/B тестов**: Тестирование различных гипотез.\n",
    "\n",
    "## Взаимодействие команд\n",
    "\n",
    "### Продуктовые менеджеры\n",
    "- **Формирование гипотез и метрик успеха**: Определение ключевых показателей для тестирования.\n",
    "\n",
    "### Аналитики данных\n",
    "- **Подготовка данных и анализ результатов**: Выполнение статистического анализа.\n",
    "\n",
    "### Разработчики\n",
    "- **Реализация технических изменений**: Внесение изменений в продукт для проведения теста.\n",
    "\n",
    "### Маркетологи\n",
    "- **Разработка коммуникаций для пользователей**: Создание привлекательных предложений.\n",
    "\n",
    "### Партнерские менеджеры\n",
    "- **Взаимодействие с банком и партнерами**: Управление отношениями с ключевыми стейкхолдерами."
   ]
  }
 ],
 "metadata": {
  "kernelspec": {
   "display_name": "Python 3 (ipykernel)",
   "language": "python",
   "name": "python3"
  },
  "language_info": {
   "codemirror_mode": {
    "name": "ipython",
    "version": 3
   },
   "file_extension": ".py",
   "mimetype": "text/x-python",
   "name": "python",
   "nbconvert_exporter": "python",
   "pygments_lexer": "ipython3",
   "version": "3.11.5"
  }
 },
 "nbformat": 4,
 "nbformat_minor": 5
}
